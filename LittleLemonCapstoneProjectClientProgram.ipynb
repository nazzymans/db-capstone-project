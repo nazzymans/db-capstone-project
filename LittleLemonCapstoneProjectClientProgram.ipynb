{
 "cells": [
  {
   "cell_type": "code",
   "execution_count": 1,
   "metadata": {},
   "outputs": [
    {
     "name": "stdout",
     "output_type": "stream",
     "text": [
      "Defaulting to user installation because normal site-packages is not writeable\n",
      "Requirement already satisfied: mysql-connector-python in c:\\users\\john\\appdata\\roaming\\python\\python311\\site-packages (8.0.32)\n",
      "Requirement already satisfied: protobuf<=3.20.3,>=3.11.0 in c:\\users\\john\\appdata\\roaming\\python\\python311\\site-packages (from mysql-connector-python) (3.20.3)\n"
     ]
    },
    {
     "name": "stderr",
     "output_type": "stream",
     "text": [
      "\n",
      "[notice] A new release of pip is available: 23.0.1 -> 23.1.2\n",
      "[notice] To update, run: python.exe -m pip install --upgrade pip\n"
     ]
    }
   ],
   "source": [
    "!pip install mysql-connector-python"
   ]
  },
  {
   "cell_type": "code",
   "execution_count": 2,
   "metadata": {},
   "outputs": [],
   "source": [
    "import mysql.connector as connector"
   ]
  },
  {
   "cell_type": "code",
   "execution_count": 35,
   "metadata": {},
   "outputs": [],
   "source": [
    "connection = connector.connect(user = \"root\", password = \"root\", db = \"littlelemondb\")"
   ]
  },
  {
   "cell_type": "code",
   "execution_count": 36,
   "metadata": {},
   "outputs": [],
   "source": [
    "cursor = connection.cursor()"
   ]
  },
  {
   "attachments": {},
   "cell_type": "markdown",
   "metadata": {},
   "source": [
    "Test Query"
   ]
  },
  {
   "cell_type": "code",
   "execution_count": 37,
   "metadata": {},
   "outputs": [
    {
     "name": "stdout",
     "output_type": "stream",
     "text": [
      "[('bookings',), ('customerdetails',), ('menuitems',), ('menus',), ('orders',), ('orderstatus',), ('ordersview',), ('staffdetails',), ('temp_bookings',)]\n"
     ]
    }
   ],
   "source": [
    "show_tables_query = \"SHOW tables;\" \n",
    "cursor.execute(show_tables_query)\n",
    "results = cursor.fetchall()\n",
    "print(results)"
   ]
  },
  {
   "cell_type": "code",
   "execution_count": 38,
   "metadata": {},
   "outputs": [
    {
     "name": "stdout",
     "output_type": "stream",
     "text": [
      "[('ASAP FERG', '555-1213', Decimal('90'))]\n"
     ]
    }
   ],
   "source": [
    "CustomQuery = \"\"\"SELECT CONCAT(customerdetails.FirstName, ' ', customerdetails.LastName) AS FullName, customerdetails.PhoneNumber AS ContactDetails, orders.OrderCost\n",
    "FROM customerdetails\n",
    "JOIN orders ON customerdetails.CustomerID = Orders.CustomerID\n",
    "WHERE Orders.OrderCost > 60;\"\"\"\n",
    "\n",
    "cursor.execute(CustomQuery)\n",
    "results = cursor.fetchall()\n",
    "print(results)\n"
   ]
  }
 ],
 "metadata": {
  "kernelspec": {
   "display_name": "Python 3",
   "language": "python",
   "name": "python3"
  },
  "language_info": {
   "codemirror_mode": {
    "name": "ipython",
    "version": 3
   },
   "file_extension": ".py",
   "mimetype": "text/x-python",
   "name": "python",
   "nbconvert_exporter": "python",
   "pygments_lexer": "ipython3",
   "version": "3.11.1"
  },
  "orig_nbformat": 4
 },
 "nbformat": 4,
 "nbformat_minor": 2
}
